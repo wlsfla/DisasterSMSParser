{
 "cells": [
  {
   "cell_type": "code",
   "execution_count": 1,
   "outputs": [],
   "source": [
    "import requests\n",
    "import json\n",
    "import pandas as pd\n",
    "from pandas import json_normalize\n",
    "from datetime import datetime\n",
    "\n",
    "headers = {\n",
    "    'Connection': 'keep-alive',\n",
    "    'sec-ch-ua': '\" Not;A Brand\";v=\"99\", \"Google Chrome\";v=\"97\", \"Chromium\";v=\"97\"',\n",
    "    'DNT': '1',\n",
    "    'sec-ch-ua-mobile': '?0',\n",
    "    'User-Agent': 'Mozilla/5.0 (Windows NT 10.0; Win64; x64) AppleWebKit/537.36 (KHTML, like Gecko) Chrome/97.0.4692.71 Safari/537.36',\n",
    "    'Content-Type': 'application/json; charset=UTF-8',\n",
    "    'Accept': 'application/json',\n",
    "    'X-Requested-With': 'XMLHttpRequest',\n",
    "    'sec-ch-ua-platform': '\"Windows\"',\n",
    "    'Origin': 'https://www.safekorea.go.kr',\n",
    "    'Sec-Fetch-Site': 'same-origin',\n",
    "    'Sec-Fetch-Mode': 'cors',\n",
    "    'Sec-Fetch-Dest': 'empty',\n",
    "    'Referer': 'https://www.safekorea.go.kr/idsiSFK/neo/sfk/cs/sfc/dis/disasterMsgList.jsp?emgPage=Y&menuSeq=679',\n",
    "    'Accept-Language': 'ko-KR,ko;q=0.9,en-US;q=0.8,en;q=0.7,es;q=0.6,ja;q=0.5,pt;q=0.4',\n",
    "}\n",
    "\n",
    "payload = '{\"searchInfo\":{\"pageIndex\":\"1\",\"pageUnit\":\"10\",\"pageSize\":10,\"firstIndex\":\"1\",\"lastIndex\":\"1\",\"recordCountPerPage\":\"10\",\"searchBgnDe\":\"2022-01-28\",\"searchEndDe\":\"2022-01-29\",\"searchGb\":\"1\",\"searchWrd\":\"\",\"rcv_Area_Id\":\"\",\"dstr_se_Id\":\"\",\"c_ocrc_type\":\"\",\"sbLawArea1\":\"\",\"sbLawArea2\":\"\"}}'\n",
    "\n",
    "bgnDate = '2022-01-28'\n",
    "endDate = '2022-01-29'\n",
    "fileName = f'disasterSmsList_{bgnDate}_{endDate}.xlsx'\n",
    "\n",
    "url = 'https://www.safekorea.go.kr/idsiSFK/sfk/cs/sua/web/DisasterSmsList.do'"
   ],
   "metadata": {
    "collapsed": false,
    "pycharm": {
     "name": "#%%\n"
    }
   }
  },
  {
   "cell_type": "code",
   "execution_count": 94,
   "metadata": {
    "collapsed": true,
    "pycharm": {
     "name": "#%%\n"
    }
   },
   "outputs": [],
   "source": [
    "## main\n",
    "\n",
    "pay = json.loads(payload)\n",
    "re = requests.post(url, headers=headers, data=payload).json()['rtnResult']\n",
    "\n",
    "if re['resultCode'] != '0': # resultCode가 0이면 success, 아니면 종료\n",
    "    print('')\n",
    "    quit()\n",
    "\n",
    "# payload의 pageUnit을 다시 지정하여 request\n",
    "pay['searchInfo']['pageUnit'] = re['totCnt']\n",
    "payload = json.dumps(pay)\n",
    "\n",
    "resultjson = requests.post(url, headers=headers, data=payload).json()\n",
    "\n",
    "# json obj를 excel로 export.\n",
    "json_normalize(resultjson['disasterSmsList']).to_excel(fileName, sheet_name='disasterSmsList')"
   ]
  },
  {
   "cell_type": "code",
   "execution_count": 98,
   "outputs": [],
   "source": [
    "def setToday():\n",
    "    todayStr = datetime.today().strftime('%Y-%m-%d')\n",
    "\n",
    "    bgnDate = todayStr\n",
    "    endDate = todayStr\n",
    "\n",
    "setToday()"
   ],
   "metadata": {
    "collapsed": false,
    "pycharm": {
     "name": "#%%\n"
    }
   }
  },
  {
   "cell_type": "code",
   "execution_count": 99,
   "outputs": [
    {
     "data": {
      "text/plain": "'2022-01-28'"
     },
     "execution_count": 99,
     "metadata": {},
     "output_type": "execute_result"
    }
   ],
   "source": [
    "bgnDate"
   ],
   "metadata": {
    "collapsed": false,
    "pycharm": {
     "name": "#%%\n"
    }
   }
  }
 ],
 "metadata": {
  "kernelspec": {
   "display_name": "Python 3",
   "language": "python",
   "name": "python3"
  },
  "language_info": {
   "codemirror_mode": {
    "name": "ipython",
    "version": 2
   },
   "file_extension": ".py",
   "mimetype": "text/x-python",
   "name": "python",
   "nbconvert_exporter": "python",
   "pygments_lexer": "ipython2",
   "version": "2.7.6"
  }
 },
 "nbformat": 4,
 "nbformat_minor": 0
}